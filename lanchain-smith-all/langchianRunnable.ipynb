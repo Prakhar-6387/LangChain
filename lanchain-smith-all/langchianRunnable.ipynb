{
 "cells": [
  {
   "cell_type": "code",
   "execution_count": 1,
   "metadata": {},
   "outputs": [
    {
     "data": {
      "text/plain": [
       "True"
      ]
     },
     "execution_count": 1,
     "metadata": {},
     "output_type": "execute_result"
    }
   ],
   "source": [
    "from dotenv import load_dotenv\n",
    "\n",
    "load_dotenv('/home/prakhar-tiwari/Desktop/myProjects/AI-Learn/LangChain/lanchain-smith-all/.env')"
   ]
  },
  {
   "cell_type": "code",
   "execution_count": 2,
   "metadata": {},
   "outputs": [],
   "source": [
    "base_url = \"http://localhost:11434\"\n",
    "model_name = \"llama3.2:1b\"\n",
    "\n",
    "from langchain_ollama import ChatOllama\n",
    "\n",
    "llm = ChatOllama(\n",
    "  base_url = base_url,\n",
    "    model = model_name,\n",
    "    temperature = 0.8,\n",
    "    num_predict = 256,\n",
    "    # other params ...\n",
    ")"
   ]
  },
  {
   "cell_type": "code",
   "execution_count": null,
   "metadata": {},
   "outputs": [
    {
     "name": "stdout",
     "output_type": "stream",
     "text": [
      "HHSHD\n"
     ]
    }
   ],
   "source": [
    "from langchain_core.runnables import chain\n",
    "\n",
    "@chain\n",
    "def capital_input(input:str) -> str :\n",
    "  return input.upper()\n",
    "\n",
    "print(capital_input.invoke(\"hhshd\"))"
   ]
  },
  {
   "cell_type": "code",
   "execution_count": null,
   "metadata": {},
   "outputs": [
    {
     "name": "stdout",
     "output_type": "stream",
     "text": [
      "PRAKAR IS A SANSKRIT TERM USED TO CLASSIFY HINDU SCRIPTURES AND PHILOSOPHIES, WITH SEVEN SUBCATEGORIES THAT DESCRIBE DIFFERENT TYPES OF TEXTS. THE SEVEN PRAKARAS ARE: VEDA (SCRIPTURES), SMRITI (HISTORIES AND EPICS), ARTHA (ECONOMIC LITERATURE), KAMA (LOVE AND EROTIC LITERATURE), MANAVA DHARMA (PHILOSOPHICAL TREATISES), GRIHYA SUTRAS (HOUSEHOLD RULES), AND UPANISHADS. WITHIN THESE CATEGORIES, THERE ARE FURTHER SUB-DIVISIONS, SUCH AS BRAHMASUTRA, AGAMAS, AND PURANAS, WHICH ENCOMPASS SPECIFIC TEXTS AND TRADITIONS THAT REPRESENT THE CORE TEACHINGS OF HINDUISM.\n"
     ]
    }
   ],
   "source": [
    "from langchain_core.runnables import  RunnablePassthrough, RunnableLambda\n",
    "from langchain_core.prompts  import ChatPromptTemplate\n",
    "from langchain_core.output_parsers import StrOutputParser\n",
    "\n",
    "prompt = ChatPromptTemplate.from_template(\" give me precise knowledge of {input} in 3 sentences\")\n",
    "\n",
    "chian1 = prompt|llm| StrOutputParser() | capital_input\n",
    "\n",
    "response =  chian1.invoke({\"input\": \"prakhar\"})\n",
    "print(response)\n"
   ]
  },
  {
   "cell_type": "code",
   "execution_count": null,
   "metadata": {},
   "outputs": [],
   "source": []
  }
 ],
 "metadata": {
  "kernelspec": {
   "display_name": "myAIEnv",
   "language": "python",
   "name": "python3"
  },
  "language_info": {
   "codemirror_mode": {
    "name": "ipython",
    "version": 3
   },
   "file_extension": ".py",
   "mimetype": "text/x-python",
   "name": "python",
   "nbconvert_exporter": "python",
   "pygments_lexer": "ipython3",
   "version": "3.12.3"
  }
 },
 "nbformat": 4,
 "nbformat_minor": 2
}
