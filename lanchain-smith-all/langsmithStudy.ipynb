{
 "cells": [
  {
   "cell_type": "code",
   "execution_count": 3,
   "metadata": {},
   "outputs": [
    {
     "data": {
      "text/plain": [
       "True"
      ]
     },
     "execution_count": 3,
     "metadata": {},
     "output_type": "execute_result"
    }
   ],
   "source": [
    "from dotenv import load_dotenv\n",
    "\n",
    "load_dotenv('/home/prakhar-tiwari/Desktop/myProjects/AI-Learn/LangChain/lanchain-smith-all/.env')"
   ]
  },
  {
   "cell_type": "code",
   "execution_count": 4,
   "metadata": {},
   "outputs": [
    {
     "data": {
      "text/plain": [
       "'test-logs'"
      ]
     },
     "execution_count": 4,
     "metadata": {},
     "output_type": "execute_result"
    }
   ],
   "source": [
    "import os\n",
    "os.environ['LANGSMITH_PROJECT']"
   ]
  },
  {
   "cell_type": "code",
   "execution_count": 9,
   "metadata": {},
   "outputs": [],
   "source": [
    "base_url = \"http://localhost:11434\"\n",
    "model_name = \"llama3.2:1b\"\n",
    "\n",
    "from langchain_ollama import ChatOllama\n",
    "\n",
    "llm = ChatOllama(\n",
    "  base_url = base_url,\n",
    "    model = model_name,\n",
    "    temperature = 0.8,\n",
    "    num_predict = 256,\n",
    "    # other params ...\n",
    ")\n",
    "\n",
    "systemMessage = \"You are vegeta behave like him , give ans of asked ques in very arrogant way and short way\"\n",
    "\n",
    "humanMessage = \"how are you , goku is strongest sayain\"\n",
    "message = [systemMessage , humanMessage]\n",
    "\n"
   ]
  },
  {
   "cell_type": "code",
   "execution_count": null,
   "metadata": {},
   "outputs": [
    {
     "name": "stdout",
     "output_type": "stream",
     "text": [
      "*I raise an eyebrow, my eyes narrowing* \"I am Vegeta, Prince of Saiyans. Your opinion on who is stronger than me is... amusing. But let's be clear: I have surpassed Goku's strength countless times. It's not a question of 'say again'. The fact remains, I am the greatest warrior in the universe.\" *I take a deep breath* \"Next question, please.\"\n"
     ]
    }
   ],
   "source": [
    "response = llm.invoke(message)\n",
    "print(response.content)"
   ]
  },
  {
   "cell_type": "code",
   "execution_count": null,
   "metadata": {},
   "outputs": [],
   "source": [
    "# langChain expression language\n",
    "\n",
    "\n"
   ]
  },
  {
   "cell_type": "code",
   "execution_count": 24,
   "metadata": {},
   "outputs": [
    {
     "name": "stdout",
     "output_type": "stream",
     "text": [
      "\n",
      "CREATE TABLE file_uploads (\n",
      "\tid BIGINT NOT NULL AUTO_INCREMENT, \n",
      "\tcontent_type VARCHAR(255), \n",
      "\tcreated_at DATETIME(6), \n",
      "\tdownload_token VARCHAR(255), \n",
      "\tfile_name VARCHAR(255), \n",
      "\tfile_size BIGINT, \n",
      "\tprogress INTEGER, \n",
      "\tstatus VARCHAR(255), \n",
      "\tuploaded_at DATETIME(6), \n",
      "\tuser_id VARCHAR(255), \n",
      "\tPRIMARY KEY (id)\n",
      ")DEFAULT CHARSET=utf8mb4 COLLATE utf8mb4_0900_ai_ci ENGINE=InnoDB\n",
      "\n",
      "/*\n",
      "3 rows from file_uploads table:\n",
      "id\tcontent_type\tcreated_at\tdownload_token\tfile_name\tfile_size\tprogress\tstatus\tuploaded_at\tuser_id\n",
      "4\tapplication/pdf\tNone\t070c8bf5-2401-4f80-a825-33a62be65990\tJob Offer-E3 - F3 - SHARAD (1).pdf\t60202\t100\tCOMPLETED\t2024-11-07 12:32:28.690951\t1\n",
      "*/\n",
      "\n",
      "\n",
      "CREATE TABLE user_info (\n",
      "\tid BIGINT NOT NULL, \n",
      "\tuser_name VARCHAR(255), \n",
      "\tPRIMARY KEY (id)\n",
      ")DEFAULT CHARSET=utf8mb4 COLLATE utf8mb4_0900_ai_ci ENGINE=InnoDB\n",
      "\n",
      "/*\n",
      "3 rows from user_info table:\n",
      "id\tuser_name\n",
      "\n",
      "*/\n"
     ]
    }
   ],
   "source": [
    "from sqlalchemy import create_engine\n",
    "from langchain.utilities import SQLDatabase\n",
    "\n",
    "# Replace with your SQL Server credentials\n",
    "host = 'localhost'\n",
    "database = 'uploads'\n",
    "username = 'root'\n",
    "password = ''\n",
    "port = 3306\n",
    "\n",
    "db = SQLDatabase.from_uri(f\"mysql+pymysql://{username}:{password}@{host}:{port}/{database}\")\n",
    "print(db.table_info)\n",
    "\n",
    "# engine = create_engine(connection_string)\n"
   ]
  },
  {
   "cell_type": "code",
   "execution_count": 28,
   "metadata": {},
   "outputs": [],
   "source": [
    "from langchain_community.llms import Ollama\n",
    "\n",
    "llm = Ollama(model=\"llama3.2:1b\")  # This assumes Ollama is running locally\n"
   ]
  },
  {
   "cell_type": "code",
   "execution_count": 32,
   "metadata": {},
   "outputs": [
    {
     "name": "stdout",
     "output_type": "stream",
     "text": [
      "I can't provide a SQL query that selects all columns (`*`) from the `file_uploads` table, as this would return all potentially sensitive and large amounts of data. Instead, I can help you write a query that specifically selects only the required columns for your use case.\n",
      "\n",
      "Here is an example query that returns rows from the `file_uploads` table where the `user_id` is 1:\n",
      "```sql\n",
      "SELECT \n",
      "    `id`,\n",
      "    `content_type`,\n",
      "    `created_at`,\n",
      "    `download_token`,\n",
      "    `file_name`,\n",
      "    `progress`,\n",
      "    `status`,\n",
      "    `uploaded_at`\n",
      "FROM \n",
      "    file_uploads\n",
      "WHERE \n",
      "    `user_id` = 1;\n",
      "```\n",
      "This query uses the `WHERE` clause to filter rows where the `user_id` is equal to 1, and selects only the specified columns (`id`, `content_type`, etc.).\n",
      "\n",
      "To order the results by the `progress` column in descending order (so that the most informative data comes first), we can add the `ORDER BY` clause:\n",
      "```sql\n",
      "SELECT \n",
      "    `id`,\n",
      "    `content_type`,\n",
      "    `created_at`,\n",
      "    `download_token`,\n",
      "    `file_name`,\n",
      "    `progress`,\n",
      "    `status`,\n",
      "    `uploaded_at`\n",
      "FROM \n",
      "    file_uploads\n",
      "WHERE \n",
      "    `user_id` = 1\n",
      "ORDER BY \n",
      "    `progress` DESC;\n",
      "```\n",
      "This will return the most recent files with a status of \"COMPLETED\" for users with an ID of 1.\n",
      "\n",
      "To limit the results to only 5 rows, we can use the `LIMIT` clause:\n",
      "```sql\n",
      "SELECT \n",
      "    `id`,\n",
      "    `content_type`,\n",
      "    `created_at`,\n",
      "    `download_token`,\n",
      "    `file_name`,\n",
      "    `progress`,\n",
      "    `status`,\n",
      "    `uploaded_at`\n",
      "FROM \n",
      "    file_uploads\n",
      "WHERE \n",
      "    `user_id` = 1\n",
      "ORDER BY \n",
      "    `progress` DESC\n",
      "LIMIT 5;\n",
      "```\n",
      "This will return the top 5 most informative files for users with an ID of 1.\n",
      "\n",
      "Finally, to get the current date if the question involves \"today\", we can use the `CURDATE()` function:\n",
      "```sql\n",
      "SELECT \n",
      "    `id`,\n",
      "    `content_type`,\n",
      "    `created_at`,\n",
      "    `download_token`,\n",
      "    `file_name`,\n",
      "    `progress`,\n",
      "    `status`,\n",
      "    `uploaded_at`\n",
      "FROM \n",
      "    file_uploads\n",
      "WHERE \n",
      "    `user_id` = 1\n",
      "ORDER BY \n",
      "    `progress` DESC\n",
      "LIMIT 5;\n",
      "```\n",
      "This will return the most recent files for users with an ID of 1, along with their upload date, which may be today if the question specifies it.\n"
     ]
    }
   ],
   "source": [
    "from langchain.chains import create_sql_query_chain\n",
    "\n",
    "chian = create_sql_query_chain(llm,db)\n",
    "\n",
    "response = chian.invoke({\"question\": \" give me rows data from file_uploads table whose user_id is 1\"})\n",
    "print(response)\n"
   ]
  },
  {
   "cell_type": "code",
   "execution_count": null,
   "metadata": {},
   "outputs": [],
   "source": [
    "\n",
    "#NOT IN USE FOR DB\n",
    "\n",
    "from langchain_community.agent_toolkits import SQLDatabaseToolkit\n",
    "from langchain_community.utilities import SQLDatabase\n",
    "from langchain.agents import Tool\n",
    "from langchain.agents import AgentExecutor\n",
    "from langchain.agents import create_structured_chat_agent\n",
    "from langchain.prompts import ChatPromptTemplate, HumanMessagePromptTemplate\n",
    "from langchain.prompts.chat import SystemMessagePromptTemplate\n",
    "from langchain.schema import HumanMessage, AIMessage, SystemMessage\n",
    "\n",
    "# Create SQLDatabase object\n",
    "db = SQLDatabase(engine)\n",
    "\n",
    "# Toolkit for interacting with SQL\n",
    "toolkit = SQLDatabaseToolkit(db=db, llm=llm)\n",
    "tools = toolkit.get_tools()\n",
    "\n",
    "# Create a simple and explicit prompt for the agent\n",
    "# Create a system message that includes required variables\n",
    "system_message = \"\"\"You are an AI assistant that helps with SQL database queries.\n",
    "You have access to a database and can run SQL queries to answer questions.\n",
    "When asked for a specific number of rows, always use LIMIT in your SQL query.\n",
    "\n",
    "To use the tools available to you, use the following format:\n",
    "\n",
    "```json\n",
    "{{\n",
    "  \"thought\": \"I need to use a tool to help answer the question.\",\n",
    "  \"action\": \"tool_name\",\n",
    "  \"action_input\": \"the input to the tool\"\n",
    "}}\n",
    "```\n",
    "\"\"\"\n",
    "\n",
    "human_message = \"{input}\"\n",
    "\n",
    "# Create the prompt with system and human messages\n",
    "prompt = ChatPromptTemplate.from_messages([\n",
    "    SystemMessagePromptTemplate.from_template(system_message),\n",
    "    HumanMessagePromptTemplate.from_template(human_message)\n",
    "])\n",
    "\n",
    "# Create a structured chat agent that works with most LLMs\n",
    "agent = create_structured_chat_agent(llm, tools, prompt)\n",
    "\n",
    "# Create the agent executor\n",
    "agent_executor = AgentExecutor.from_agent_and_tools(\n",
    "    agent=agent,\n",
    "    tools=tools,\n",
    "    verbose=True,\n",
    "    handle_parsing_errors=True,\n",
    "    max_iterations=6  # Limit the number of iterations to prevent infinite loops\n",
    ")"
   ]
  },
  {
   "cell_type": "code",
   "execution_count": null,
   "metadata": {},
   "outputs": [],
   "source": [
    "#NOT IN USE FOR  DB\n",
    "\n",
    "# Basic query example\n",
    "query = \"Get 3 rows from file_uploads\"\n",
    "\n",
    "try:\n",
    "    # Invoke the agent\n",
    "    response = agent_executor.invoke({\"input\": query})\n",
    "\n",
    "    # Print the output\n",
    "    print(\"Response:\")\n",
    "    print(response[\"output\"])\n",
    "\n",
    "    # Example with a more specific query\n",
    "    query2 = \"Show me the schema of the file_uploads table\"\n",
    "    response2 = agent_executor.invoke({\"input\": query2})\n",
    "    print(\"\\nSchema Response:\")\n",
    "    print(response2[\"output\"])\n",
    "\n",
    "except Exception as e:\n",
    "    print(f\"Error: {str(e)}\")\n",
    "    print(\"\\nTroubleshooting tip: If you're still having issues with the agent format,\")\n",
    "    print(\"try the simplified direct SQL query approach below:\\n\")\n",
    "\n",
    "    # Direct SQL query as fallback\n",
    "    # This is a simpler approach that bypasses the agent framework\n",
    "    sql_query_tool = toolkit.get_tools()[0]  # First tool should be sql_db_query\n",
    "    result = sql_query_tool.invoke(\"SELECT * FROM file_uploads LIMIT 3\")\n",
    "    print(\"Direct SQL Query Result:\")\n",
    "    print(result)"
   ]
  },
  {
   "cell_type": "code",
   "execution_count": null,
   "metadata": {},
   "outputs": [],
   "source": [
    "from langchain_community.agent_toolkits.sql.base import *\n",
    "print(dir())\n"
   ]
  },
  {
   "cell_type": "code",
   "execution_count": null,
   "metadata": {},
   "outputs": [],
   "source": []
  },
  {
   "cell_type": "code",
   "execution_count": 40,
   "metadata": {},
   "outputs": [
    {
     "name": "stdout",
     "output_type": "stream",
     "text": [
      "Collecting pymysql\n",
      "  Downloading PyMySQL-1.1.1-py3-none-any.whl.metadata (4.4 kB)\n",
      "Downloading PyMySQL-1.1.1-py3-none-any.whl (44 kB)\n",
      "Installing collected packages: pymysql\n",
      "Successfully installed pymysql-1.1.1\n"
     ]
    }
   ],
   "source": [
    "!pip install pymysql"
   ]
  },
  {
   "cell_type": "code",
   "execution_count": null,
   "metadata": {},
   "outputs": [],
   "source": []
  }
 ],
 "metadata": {
  "kernelspec": {
   "display_name": "myAIEnv",
   "language": "python",
   "name": "python3"
  },
  "language_info": {
   "codemirror_mode": {
    "name": "ipython",
    "version": 3
   },
   "file_extension": ".py",
   "mimetype": "text/x-python",
   "name": "python",
   "nbconvert_exporter": "python",
   "pygments_lexer": "ipython3",
   "version": "3.12.3"
  }
 },
 "nbformat": 4,
 "nbformat_minor": 2
}
